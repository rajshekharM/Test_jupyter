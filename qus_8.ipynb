In the lecture, you saw the definition of the multivariate normal distribution.

The $n$-dimensional random vector $X$ is normally distributed with mean vector $\mu=$

$[\mu_{1},\ \mu_{2},\ .\ .\ .\ ,\ \mu_{n}]^{T}$ and covariance matrix $V, V_{ij}=\mathrm{c}\mathrm{o}\mathrm{v}(X_{i},\ X_{j})$ , written $X\sim \mathcal{N}(\mu,\ V)$ , if
$$
f_{X}(x)=\frac{1}{\sqrt{(2\pi)^{n}|V|}}\exp\ [-\frac{1}{2}(x-\mu)V^{-1}(x-\mu)^{T}]
$$
where $|V|$ is the determinant of $V$. The standard multivariate normal is defined for

$\mu=[0,\ 0,\ .\ .\ .\ ,\ 0]^{T}, V=I_{n}.$

All transformations from Assignment 4 can be extended to the multivariate case. However, we are most interested in writing a generic multivariate normal distribution in terms of the standard multivariate normal.

To this end, if $N\sim \mathcal{N}(0,\ I_{n})$ and $N_{g}\sim \mathcal{N}(\mu,\ V)$ , it can be shown that
\begin{align}
N_{g}=\mu+EN, (1)
\end{align}

where $EE^{T}=V$.

$N_{1}\sim \mathcal{N}(\mu,\ V)$ , where $\mu=[0.1,\ 0.5]^{T}$ and $V=[[1.0$, 0.2], [0.2, 1.0] $]$. Using Eq. (1), write a python program in which $N_{1}$ in defined in terms of $N\sim \mathcal{N}(0,\ I_{n})$ . Furthermore, fora comparison, plot the contour and the $3\mathrm{D}$ representation of $N_{1}$ defined in both ways. Hint: to obtain the matrix $E$ from $V=EE^{T}$, you can use a Cholesky decomposition.
