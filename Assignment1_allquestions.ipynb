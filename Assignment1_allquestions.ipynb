{
 "cells": [
  {
   "cell_type": "markdown",
   "metadata": {},
   "source": [
    "# **Data Science Python course**: Homework 1"
   ]
  },
  {
   "cell_type": "markdown",
   "metadata": {},
   "source": [
    "Prof. Bolic  <br>\n",
    "**Due: 11.59 P.M. Thursday February 18th, 2018**"
   ]
  },
  {
   "cell_type": "markdown",
   "metadata": {},
   "source": [
    "### Instructions:\n",
    "\n",
    "+ Upload your answers in an ipython notebook to Canvas.\n",
    "\n",
    "+ We will provide you imports for your ipython notebook. Please do not import additional libraries.\n",
    "\n",
    "+ Your individual submissions should use the following filenames: AM207_YOURNAME_HW1.ipynb\n",
    "\n",
    "+ Your code should be in code cells as part of your ipython notebook. Do not use a different language (or format). \n",
    "\n",
    "+ **Do not just send your code. The homework solutions should be in a report style. Be sure to add comments to your code as well as markdown cells where you describe your approach and discuss your results. **\n",
    "\n",
    "+ Please submit your notebook in an **executed** status, so that we can see all the results you computed. However, we will still run your code and all cells should reproduce the output when executed. \n",
    "\n",
    "+ If you have multiple files (e.g. you've added code files or images) create a tarball for all files in a single file and name it: AM207_YOURNAME_HW1.tar.gz or AM207_YOURNAME_HW1.zip\n",
    "\n",
    "\n",
    "### Have Fun!\n",
    "_ _ _ _ _"
   ]
  },
  {
   "cell_type": "code",
   "execution_count": 3,
   "metadata": {
    "collapsed": false
   },
   "outputs": [
    {
     "name": "stderr",
     "output_type": "stream",
     "text": [
      "C:\\Users\\vkaynig\\Anaconda2\\lib\\site-packages\\matplotlib\\__init__.py:872: UserWarning: axes.color_cycle is deprecated and replaced with axes.prop_cycle; please use the latter.\n",
      "  warnings.warn(self.msg_depr % (key, alt_key))\n"
     ]
    }
   ],
   "source": [
    "import numpy as np\n",
    "import matplotlib\n",
    "import matplotlib.pyplot as plt\n",
    "from mpl_toolkits.mplot3d import Axes3D\n",
    "%matplotlib inline\n",
    "\n",
    "import seaborn as sns\n",
    "sns.set_style(\"white\")\n",
    "\n",
    "import time\n",
    "\n",
    "import scipy.stats "
   ]
  },
  {
   "cell_type": "markdown",
   "metadata": {},
   "source": [
    "# Problem 1: \n",
    "\n",
    "The sum $Z$ = $X$+ $Y$ of two Gaussian random variables $X$ = $N$($\\mu_{x} , \\sigma ^{2}_{x}$) is Gaussian with mean $\\mu _{z} = \\mu _{x} + \\mu _{y}$ and variance $ \\sigma _{z}^{2}=\\sigma _{x}^{2}+\\sigma _{y}^{2}+2\\rho \\sigma _{x}\\sigma _{y} $ , where $\\rho$ is the correlation coefficient given by $\\rho = E[XY]/ (\\sigma _{x}\\sigma _{y})$ . Equation section (Next) \n"
   ]
  },
  {
   "cell_type": "markdown",
   "metadata": {},
   "source": [
    "**Please answer this problem by adding cells here.**"
   ]
  },
  {
   "cell_type": "markdown",
   "metadata": {},
   "source": [
    "# Problem 2:\n",
    "\n",
    "The joint density function for the random variables ($X,Y$) is given by : \n",
    "\n",
    "$f(x,y)= 10xy^{2}  0< x< y< 1 $\n",
    "\n",
    "$= 0  $ elsewhere \n",
    "\n",
    "(a) Verify that Eq. 2.19 applies \n",
    "\n",
    "(b) Find the marginal distribution of $X$ and $Y$ \n",
    "\n",
    "(c) Compute the probability of $0< x< 1/2, 1/4<y< 1/2 $\n",
    "\n",
    "\n"
   ]
  },
  {
   "cell_type": "markdown",
   "metadata": {},
   "source": [
    "**Please answer this problem by adding cells here.**"
   ]
  },
  {
   "cell_type": "markdown",
   "metadata": {},
   "source": [
    "# Problem 3: \n",
    "\n",
    "Consider a medical test for a disease. The test has a probability of 0.95 of correctly or positively detecting an infected person (this is the sensitivity), while it has a probability of 0.90 of correcctly identifying a healthy person (this is called specificity). In the population, only 3% of the people have the disease.  \n",
    "\n",
    "(a) What is the probability that a person testing positive is actually infected? \n",
    "\n",
    "(b) What is the probability that a person testing negetive is actually infected? \n",
    "\n",
    "\n"
   ]
  },
  {
   "cell_type": "markdown",
   "metadata": {},
   "source": [
    "**Please answer this problem by adding cells here.**"
   ]
  },
  {
   "cell_type": "markdown",
   "metadata": {},
   "source": [
    "# Problem 4:\n",
    "\n",
    "Sulfar Dioxide concentrations in the air samples taken in a certain region has been found to be well represented by lognormal distribution with parameters $\\mu = 2.1$ and $\\sigma= 0.8$.\n",
    "\n",
    "(a) What proportions of air samples have concentration between 3 and 6? \n",
    "\n",
    "(b) What proportion do not exceed 10?\n",
    "\n",
    "(c) What interval (a,b) is such that 95% of all air samples have concentration values in this interval, with 2.5% have values less than a, and 2.5% have values exceeding b? \n",
    "\n",
    "\n"
   ]
  },
  {
   "cell_type": "markdown",
   "metadata": {},
   "source": [
    "**Please answer this problem by adding cells here.**"
   ]
  },
  {
   "cell_type": "markdown",
   "metadata": {},
   "source": [
    "# Problem 5:\n",
    "\n",
    "A building can have structural damage (D) during its lifetime only from fire (F), high winds(W) and strong earthquakes(E). Thus, F, W and E are collectively exhaustive events. Further assume that the building will not be structurally damaged simultaneously by F, W and E, thus making them mutually exclusive events. The probabilities of structural damage to the building if these events occur are estimated to be\n",
    "0.005, 0.01 and 0.05 , respectively. The probabilities of occurrence of F, W and E during the life of the building are 0.5, 0.3 and 0.2, respectively. \n",
    "\n",
    "(a) What is the probability that the building will suffer structural damage during its lifetime? \n",
    "\n",
    "(b) If the building has suffered structural damage, what is the probability that it was caused by F? By W? By E?\n",
    "\n",
    "\n"
   ]
  },
  {
   "cell_type": "markdown",
   "metadata": {},
   "source": [
    "**Please answer this problem by adding cells here.**"
   ]
  },
  {
   "cell_type": "markdown",
   "metadata": {},
   "source": [
    "# Problem 6:\n",
    "\n",
    "The water level in a particular lake depends on two sources, direct rainfall $X$ and inflow from a stream $Y$. The rainfall $Z$ around the lake can be considered as a random variable\n",
    "with a mean of $\\mu_{z}$ and a standard deviation of $\\sigma_{z}$. $X$ and $Y$ are related to $Z$ as \n",
    "\n",
    "$ X = a Z $\n",
    "\n",
    "$ Y = b + c Z $\n",
    "\n",
    "where a, b and c are constants . X and Y are functions of a random variable and are therefore also random. Calculate the correlation coefficient $\\rho_{x,y}$ .\n",
    "\n",
    "\n"
   ]
  },
  {
   "cell_type": "markdown",
   "metadata": {},
   "source": [
    "**Please answer this problem by adding cells here.**"
   ]
  },
  
  {
   "cell_type": "markdown",
   "metadata": {},
   "source": [
    "# Problem 7:\n",
    "\n",
    "For a large construction project, the contractor estimates that the average of on-the-job accidents is three times per year. From the past experience, the contractor also \n",
    "estimates that the cost incurred from each accident can be incurred as the lognormal random variable with a median of $6,000 and the COV of 20%. The cost of each accident can be assumed to be statistically independent. \n",
    "\n",
    "(a) What is the probability that there will be no accident in the first month of construction? n",
    "\n",
    "(b) What is the probability that only 1 out of the first 3 months of construction is free of accidents?\n",
    "\n",
    "(c) What is the probability that the accident will incur a loss exceeding $4,000?\n",
    "\n",
    "(d) What is the probability that none of the accidents in a month will cost more than $4,000? \n",
    "\n"
   ]
  },
  {
   "cell_type": "markdown",
   "metadata": {},
   "source": [
    "**Please answer this problem by adding cells here.**"
   ]
  },
  
  {
   "cell_type": "markdown",
   "metadata": {},
   "source": [
    "# Problem 8:\n",
    "\n",
    "In the lecture, you saw the definition of the multivariate normal distribution. The $n$-dimensional random vector $X$ is normally distributed with mean vector\n",
    "$\\mu=[\\mu_{1},\ \\mu_{2},\\ .\\ .\\ .\\ ,\\ \\mu_{n}]^{T}$ \n",
    "written $ X \\sim \\mathcal{N}(\\mu, V)$ \n",
    "if $f_{X}(x)=\\frac{1}{\\sqrt{(2\\pi)^{n}|V|}} e^{-\\frac{1}{2}(x-\\mu)V^{-1}(x-\\mu)^{T}} $  where $|V|$ is the determinant of $V$.\n ",
    "The standard multivariate normal is defined for $ \\mu $ = $[0,\\ 0,\\ .\\ .\\ .\\ ,\\ 0]^{T}$ $V=I_{n}$\n",
    "\n",
    "\n"
   ]
  },
  {
   "cell_type": "markdown",
   "metadata": {},
   "source": [
    "**Please answer this problem by adding cells here.**"
   ]
  },

  {
   "cell_type": "code",
   "execution_count": null,
   "metadata": {
    "collapsed": true
   },
   "outputs": [],
   "source": []
  }
 ],
 "metadata": {
  "kernelspec": {
   "display_name": "Python 2",
   "language": "python",
   "name": "python2"
  },
  "language_info": {
   "codemirror_mode": {
    "name": "ipython",
    "version": 2
   },
   "file_extension": ".py",
   "mimetype": "text/x-python",
   "name": "python",
   "nbconvert_exporter": "python",
   "pygments_lexer": "ipython2",
   "version": "2.7.11"
  }
 },
 "nbformat": 4,
 "nbformat_minor": 0
}
